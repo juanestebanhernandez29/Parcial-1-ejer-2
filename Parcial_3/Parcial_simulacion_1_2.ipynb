{
  "nbformat": 4,
  "nbformat_minor": 0,
  "metadata": {
    "colab": {
      "private_outputs": true,
      "provenance": [],
      "authorship_tag": "ABX9TyMUzQfyGLoesJXymes+2FJZ",
      "include_colab_link": true
    },
    "kernelspec": {
      "name": "python3",
      "display_name": "Python 3"
    },
    "language_info": {
      "name": "python"
    }
  },
  "cells": [
    {
      "cell_type": "markdown",
      "metadata": {
        "id": "view-in-github",
        "colab_type": "text"
      },
      "source": [
        "<a href=\"https://colab.research.google.com/github/juanestebanhernandez29/Parciales/blob/main/Parcial_3/Parcial_simulacion_1_2.ipynb\" target=\"_parent\"><img src=\"https://colab.research.google.com/assets/colab-badge.svg\" alt=\"Open In Colab\"/></a>"
      ]
    },
    {
      "cell_type": "markdown",
      "source": [
        "# **Simulacion parcial 3**\n",
        "\n",
        "\n",
        "\n",
        "\n"
      ],
      "metadata": {
        "id": "GueFKc5cg2VX"
      }
    },
    {
      "cell_type": "markdown",
      "source": [
        "# Punto 1"
      ],
      "metadata": {
        "id": "GitF2zMdhGB-"
      }
    },
    {
      "cell_type": "code",
      "execution_count": null,
      "metadata": {
        "id": "6ohCe_6lgwJH"
      },
      "outputs": [],
      "source": [
        "!pip install sympy --upgrade #actualizar sympy para usar módulo de control"
      ]
    },
    {
      "cell_type": "code",
      "source": [
        "pip install control"
      ],
      "metadata": {
        "id": "4wroMpDohSAj"
      },
      "execution_count": null,
      "outputs": []
    },
    {
      "cell_type": "code",
      "source": [
        "%matplotlib inline\n",
        "import numpy as np\n",
        "import matplotlib.pyplot as plt\n",
        "import sympy as sym\n",
        "sym.init_printing()\n",
        "#definiri variables\n",
        "t, m, c, k = sym.symbols('t m c k', real=True,positive=True)\n",
        "s = sym.symbols('s', complex=True)"
      ],
      "metadata": {
        "id": "70xjOR-lhWSi"
      },
      "execution_count": null,
      "outputs": []
    },
    {
      "cell_type": "code",
      "source": [
        "#forma canónica del slit\n",
        "a2 = m #CL en circuito equivalente\n",
        "a1 = c #L/R en circuito equivalente\n",
        "ao = k # 1 en circuito equivalente\n",
        "\n",
        "Ko = 1/ao #ganancia circuito forma canónica\n",
        "wn = sym.sqrt(ao/a2)\n",
        "xi = a1/(2*a2*sym.sqrt(ao/a2))\n",
        "#función de transferencia\n",
        "H = Ko*wn**2/(s**2+2*xi*wn*s+wn**2)\n",
        "H"
      ],
      "metadata": {
        "id": "HcJ2szXThXqZ"
      },
      "execution_count": null,
      "outputs": []
    },
    {
      "cell_type": "code",
      "source": [
        "#calcular polos\n",
        "p1 = -xi*wn + 1j*wn*sym.sqrt(1-xi**2)\n",
        "p2 = -xi*wn - 1j*wn*sym.sqrt(1-xi**2)\n",
        "p1"
      ],
      "metadata": {
        "id": "_n8z0z6dhhuv"
      },
      "execution_count": null,
      "outputs": []
    },
    {
      "cell_type": "code",
      "source": [
        "#Reemplazando los valores\n",
        "mck = {m: 4.0, c: 1.0, k: 1.0}\n",
        "mck"
      ],
      "metadata": {
        "id": "h3JzDarVhieu"
      },
      "execution_count": null,
      "outputs": []
    },
    {
      "cell_type": "code",
      "source": [
        "## Polos y ceros\n",
        "print('p1=',p1.subs(mck))\n",
        "print('p2=',p2.subs(mck))\n",
        "print('xi=',xi.subs(mck))\n",
        "print('omega_n=',wn.subs(mck))"
      ],
      "metadata": {
        "id": "u6MAim-fhi6P"
      },
      "execution_count": null,
      "outputs": []
    },
    {
      "cell_type": "markdown",
      "source": [
        "# Tiempo de establecimiento"
      ],
      "metadata": {
        "id": "9cqKWcOLiIWz"
      }
    },
    {
      "cell_type": "code",
      "source": [
        "t_s = 6*m / c\n",
        "print('El tiempo de establecimiento es de: ',t_s.subs(mck))"
      ],
      "metadata": {
        "id": "WZaBTqDthjGm"
      },
      "execution_count": null,
      "outputs": []
    },
    {
      "cell_type": "code",
      "source": [
        "#gráfica polos y ceros paquete de control de sympy\n",
        "from sympy.physics.control.lti import TransferFunction\n",
        "from sympy.physics.control.control_plots import pole_zero_plot, bode_plot, impulse_response_plot, step_response_plot, ramp_response_plot\n",
        "import control as ctrl\n",
        "num,den=sym.fraction(H.subs(mck))\n",
        "\n",
        "tf1 = TransferFunction(num, den, s)#numerados y denomirador función de transferencia con valores evaluados de RLC\n",
        "pole_zero_plot(tf1)"
      ],
      "metadata": {
        "id": "ZDqmFZmSifk9"
      },
      "execution_count": null,
      "outputs": []
    },
    {
      "cell_type": "markdown",
      "source": [
        "# Diagrama de bode"
      ],
      "metadata": {
        "id": "5E340Szri0JM"
      }
    },
    {
      "cell_type": "code",
      "source": [
        "bode_plot(tf1)"
      ],
      "metadata": {
        "id": "tvRTP9R0ii5n"
      },
      "execution_count": null,
      "outputs": []
    },
    {
      "cell_type": "markdown",
      "source": [
        "# Respuesta impulso"
      ],
      "metadata": {
        "id": "jHMu-kezi8lJ"
      }
    },
    {
      "cell_type": "code",
      "source": [
        "impulse_response_plot(tf1,upper_limit=5/(xi.subs(mck)*wn.subs(mck)))"
      ],
      "metadata": {
        "id": "LBCd2MVninEB"
      },
      "execution_count": null,
      "outputs": []
    },
    {
      "cell_type": "markdown",
      "source": [
        "# Tiempo pico"
      ],
      "metadata": {
        "id": "qLMgRkLajF1S"
      }
    },
    {
      "cell_type": "code",
      "source": [
        "import numpy as np\n",
        "import matplotlib.pyplot as plt\n",
        "from scipy.signal import impulse, find_peaks\n",
        "\n",
        "# Suponiendo que tf1 es tu función de transferencia\n",
        "# (asegúrate de tener importada la función transfer_function)\n",
        "\n",
        "# Definir la función de transferencia (sustituye tf1 con tu función)\n",
        "numerator = [1]\n",
        "denominator = [4, 1, 1]  # Sistema de segundo orden, por ejemplo\n",
        "\n",
        "# Obtener la respuesta al impulso\n",
        "time, response = impulse((numerator, denominator))\n",
        "\n",
        "# Encontrar los picos en la respuesta al impulso\n",
        "peaks, _ = find_peaks(response)\n",
        "\n",
        "# Encontrar el tiempo correspondiente al primer pico\n",
        "Tp = time[peaks[0]]\n",
        "Tp"
      ],
      "metadata": {
        "id": "t5KOcJT0jFNa"
      },
      "execution_count": null,
      "outputs": []
    },
    {
      "cell_type": "markdown",
      "source": [
        "# Respuesta al escalon"
      ],
      "metadata": {
        "id": "jpnCunuSjsEe"
      }
    },
    {
      "cell_type": "code",
      "source": [
        "step_response_plot(tf1,upper_limit=5/(xi.subs(mck)*wn.subs(mck)))"
      ],
      "metadata": {
        "id": "2uBjVC0zjx59"
      },
      "execution_count": null,
      "outputs": []
    },
    {
      "cell_type": "markdown",
      "source": [
        "# Tiempo pico"
      ],
      "metadata": {
        "id": "xyMloqaZksXg"
      }
    },
    {
      "cell_type": "code",
      "source": [
        "import numpy as np\n",
        "import matplotlib.pyplot as plt\n",
        "from scipy.signal import step, find_peaks\n",
        "\n",
        "# Suponiendo que tf1 es tu función de transferencia\n",
        "# (asegúrate de tener importada la función transfer_function)\n",
        "\n",
        "# Definir la función de transferencia (sustituye tf1 con tu función)\n",
        "numerator = [1]\n",
        "denominator = [4, 1, 1]  # Sistema de segundo orden, por ejemplo\n",
        "\n",
        "# Obtener la respuesta al impulso\n",
        "time, response = step((numerator, denominator))\n",
        "\n",
        "# Encontrar los picos en la respuesta al impulso\n",
        "peaks, _ = find_peaks(response)\n",
        "\n",
        "# Encontrar el tiempo correspondiente al primer pico\n",
        "Tp = time[peaks[0]]\n",
        "Tp"
      ],
      "metadata": {
        "id": "D008W4kPkxr4"
      },
      "execution_count": null,
      "outputs": []
    },
    {
      "cell_type": "markdown",
      "source": [
        "# Respuesta rampa"
      ],
      "metadata": {
        "id": "PkvLurg2k5DZ"
      }
    },
    {
      "cell_type": "code",
      "source": [
        "ramp_response_plot(tf1,upper_limit=5/(xi.subs(mck)*wn.subs(mck)))"
      ],
      "metadata": {
        "id": "c37xNtZRlDIz"
      },
      "execution_count": null,
      "outputs": []
    },
    {
      "cell_type": "markdown",
      "source": [
        "Ahora, para sistema de amortiguamiento crítico:\n",
        "\n",
        "$$\\xi=1$$\n",
        "\n",
        "$$\\frac{a_1}{2 a_2 \\sqrt{\\frac {a_0} {a_2}}}=1$$\n",
        "\n",
        "$$\\frac{c}{2 m\\sqrt{\\frac {k} {m}}}=1$$\n",
        "\n",
        "Asumimos:\n",
        "\n",
        "$$c=2 = \\frac{L}{R}$$\n",
        "\n",
        "$L = 2$, $R=1$\n",
        "\n",
        "$$k=1$$\n",
        "\n",
        "$$m=1 = CL$$\n",
        "\n",
        "$C=\\frac{1}{2}$\n",
        "\n",
        "$$\\xi = \\frac{2}{2}=1$$"
      ],
      "metadata": {
        "id": "T2qFCL4wlZO4"
      }
    },
    {
      "cell_type": "code",
      "source": [
        "#Reemplazando los valores\n",
        "mck = {m: 1.0, c: 2.0, k: 1.0}\n",
        "mck"
      ],
      "metadata": {
        "id": "jyKy4EnFmUHn"
      },
      "execution_count": null,
      "outputs": []
    },
    {
      "cell_type": "code",
      "source": [
        "## Polos y ceros\n",
        "print('p1=',p1.subs(mck))\n",
        "print('p2=',p2.subs(mck))\n",
        "print('xi=',xi.subs(mck))\n",
        "print('omega_n=',wn.subs(mck))"
      ],
      "metadata": {
        "id": "hwJx9CTYmApo"
      },
      "execution_count": null,
      "outputs": []
    },
    {
      "cell_type": "code",
      "source": [
        "t_s2 = 6*m / c\n",
        "print('El tiempo de establecimiento es de: ',t_s.subs(mck))"
      ],
      "metadata": {
        "id": "UzdA1Fd2mJvo"
      },
      "execution_count": null,
      "outputs": []
    },
    {
      "cell_type": "code",
      "source": [
        "#gráfica polos y ceros paquete de control de sympy\n",
        "from sympy.physics.control.lti import TransferFunction\n",
        "from sympy.physics.control.control_plots import pole_zero_plot, bode_plot, impulse_response_plot, step_response_plot, ramp_response_plot\n",
        "num,den=sym.fraction(H.subs(mck))\n",
        "\n",
        "tf1 = TransferFunction(num, den, s)#numerados y denomirador función de transferencia con valores evaluados de RLC\n",
        "pole_zero_plot(tf1)"
      ],
      "metadata": {
        "id": "rNI4Ur4OmaZE"
      },
      "execution_count": null,
      "outputs": []
    },
    {
      "cell_type": "markdown",
      "source": [
        "# Diagrama de bode"
      ],
      "metadata": {
        "id": "2pkKkXNOmd7w"
      }
    },
    {
      "cell_type": "code",
      "source": [
        "bode_plot(tf1)"
      ],
      "metadata": {
        "id": "fzdboVrtmj-R"
      },
      "execution_count": null,
      "outputs": []
    },
    {
      "cell_type": "markdown",
      "source": [
        "# Respuesta impulso"
      ],
      "metadata": {
        "id": "vfAhHOuym0xl"
      }
    },
    {
      "cell_type": "code",
      "source": [
        "impulse_response_plot(tf1,upper_limit=5/(xi.subs(mck)*wn.subs(mck)))"
      ],
      "metadata": {
        "id": "VoFnshjQmksL"
      },
      "execution_count": null,
      "outputs": []
    },
    {
      "cell_type": "markdown",
      "source": [
        "# Tiempo pico"
      ],
      "metadata": {
        "id": "XiCug0LQnBbu"
      }
    },
    {
      "cell_type": "code",
      "source": [
        "import numpy as np\n",
        "import matplotlib.pyplot as plt\n",
        "from scipy.signal import impulse, find_peaks\n",
        "\n",
        "# Suponiendo que tf1 es tu función de transferencia\n",
        "# (asegúrate de tener importada la función transfer_function)\n",
        "\n",
        "# Definir la función de transferencia (sustituye tf1 con tu función)\n",
        "numerator = [1]\n",
        "denominator = [1, 2, 1]  # Sistema de segundo orden, por ejemplo\n",
        "\n",
        "# Obtener la respuesta al impulso\n",
        "time, response = impulse((numerator, denominator))\n",
        "\n",
        "# Encontrar los picos en la respuesta al impulso\n",
        "peaks, _ = find_peaks(response)\n",
        "\n",
        "# Encontrar el tiempo correspondiente al primer pico\n",
        "Tp = time[peaks[0]]\n",
        "Tp"
      ],
      "metadata": {
        "id": "gAwa_josm7kW"
      },
      "execution_count": null,
      "outputs": []
    },
    {
      "cell_type": "markdown",
      "source": [
        "# Respuesta al escalon"
      ],
      "metadata": {
        "id": "Xz4TIdKh5LaT"
      }
    },
    {
      "cell_type": "code",
      "source": [
        "step_response_plot(tf1,upper_limit=5/(xi.subs(mck)*wn.subs(mck)))"
      ],
      "metadata": {
        "id": "bYAep7B55QH-"
      },
      "execution_count": null,
      "outputs": []
    },
    {
      "cell_type": "markdown",
      "source": [
        "# Respuesta rampa"
      ],
      "metadata": {
        "id": "2sNVykYP5VIl"
      }
    },
    {
      "cell_type": "code",
      "source": [
        "ramp_response_plot(tf1,upper_limit=5/(xi.subs(mck)*wn.subs(mck)))"
      ],
      "metadata": {
        "id": "0ygHOZ9h5YhN"
      },
      "execution_count": null,
      "outputs": []
    },
    {
      "cell_type": "markdown",
      "source": [
        "Simulacon"
      ],
      "metadata": {
        "id": "0HvNv0Bk5eag"
      }
    },
    {
      "cell_type": "markdown",
      "source": [
        "Teniendo en cuenta la forma canónica:\n",
        "\n",
        "Hlc(s)=1a2s2+a1s+a0\n",
        "\n",
        "Hlc(s)=Kω2ns2+2ξωns+ω2n"
      ],
      "metadata": {
        "id": "7Mim8f_-AjWp"
      }
    },
    {
      "cell_type": "code",
      "source": [
        "#forma canónica del slit\n",
        "a2 = m #CL en circuito equivalente\n",
        "a1 = c #L/R en circuito equivalente\n",
        "ao = k + 1 # 1 en circuito equivalente\n",
        "\n",
        "Ko = 1/ao #ganancia circuito forma canónica\n",
        "wn = sym.sqrt(ao/a2)\n",
        "xi = a1/(2*a2*sym.sqrt(ao/a2))\n",
        "#función de transferencia\n",
        "H = Ko*wn**2/(s**2+2*xi*wn*s+wn**2)\n",
        "H"
      ],
      "metadata": {
        "id": "-p1VcCJjAkQV"
      },
      "execution_count": null,
      "outputs": []
    },
    {
      "cell_type": "code",
      "source": [
        "#calcular polos\n",
        "p1 = -xi*wn + 1j*wn*sym.sqrt(1-xi**2)\n",
        "p2 = -xi*wn - 1j*wn*sym.sqrt(1-xi**2)\n",
        "p1"
      ],
      "metadata": {
        "id": "7-UKVgiOAqJg"
      },
      "execution_count": null,
      "outputs": []
    },
    {
      "cell_type": "markdown",
      "source": [
        "Ahora, para sistema subamortiguado:\n",
        "\n",
        "0<ξ<1\n",
        "\n",
        "0<c2mk+1m−−−√<1\n",
        "\n",
        "Asumimos:\n",
        "\n",
        "c=1=LR\n",
        "\n",
        "L=1 ,  R=1\n",
        "\n",
        "k=1\n",
        "\n",
        "m=4=CL\n",
        "\n",
        "C=4\n",
        "\n",
        "ξ=2–√8=0.17"
      ],
      "metadata": {
        "id": "uLGP3TYXAyxk"
      }
    },
    {
      "cell_type": "code",
      "source": [
        "#Reemplazando los valores\n",
        "mck = {m: 4.0, c: 1.0, k: 1.0}\n",
        "mck"
      ],
      "metadata": {
        "id": "6zl2YALAA0xY"
      },
      "execution_count": null,
      "outputs": []
    },
    {
      "cell_type": "code",
      "source": [
        "## Polos y ceros\n",
        "print('p1=',p1.subs(mck))\n",
        "print('p2=',p2.subs(mck))\n",
        "print('xi=',xi.subs(mck))\n",
        "print('omega_n=',wn.subs(mck))"
      ],
      "metadata": {
        "id": "YyxWawS5A56x"
      },
      "execution_count": null,
      "outputs": []
    },
    {
      "cell_type": "code",
      "source": [
        "t_s2 = 6*m / c\n",
        "print('El tiempo de establecimiento es de: ',t_s.subs(mck))"
      ],
      "metadata": {
        "id": "tcrLtcpQAq2T"
      },
      "execution_count": null,
      "outputs": []
    },
    {
      "cell_type": "code",
      "source": [
        "#gráfica polos y ceros paquete de control de sympy\n",
        "from sympy.physics.control.lti import TransferFunction\n",
        "from sympy.physics.control.control_plots import pole_zero_plot, bode_plot, impulse_response_plot, step_response_plot, ramp_response_plot\n",
        "num,den=sym.fraction(H.subs(mck))\n",
        "\n",
        "tf1 = TransferFunction(num, den, s)#numerados y denomirador función de transferencia con valores evaluados de RLC\n",
        "pole_zero_plot(tf1)"
      ],
      "metadata": {
        "id": "GVPyXV26BgO4"
      },
      "execution_count": null,
      "outputs": []
    },
    {
      "cell_type": "markdown",
      "source": [
        "# Diagrama de bode"
      ],
      "metadata": {
        "id": "nnWJ6LoKBvhC"
      }
    },
    {
      "cell_type": "code",
      "source": [
        "bode_plot(tf1)"
      ],
      "metadata": {
        "id": "R4RUNwSGByl2"
      },
      "execution_count": null,
      "outputs": []
    },
    {
      "cell_type": "markdown",
      "source": [
        "# Respuesta impulso"
      ],
      "metadata": {
        "id": "5BvT_L4KB8XS"
      }
    },
    {
      "cell_type": "code",
      "source": [
        "impulse_response_plot(tf1,upper_limit=5/(xi.subs(mck)*wn.subs(mck)))"
      ],
      "metadata": {
        "id": "G7wbyANLB784"
      },
      "execution_count": null,
      "outputs": []
    },
    {
      "cell_type": "markdown",
      "source": [
        "# Tiempo pico"
      ],
      "metadata": {
        "id": "64NXId-5CLE8"
      }
    },
    {
      "cell_type": "code",
      "source": [
        "import numpy as np\n",
        "import matplotlib.pyplot as plt\n",
        "from scipy.signal import impulse, find_peaks\n",
        "\n",
        "# Suponiendo que tf1 es tu función de transferencia\n",
        "# (asegúrate de tener importada la función transfer_function)\n",
        "\n",
        "# Definir la función de transferencia (sustituye tf1 con tu función)\n",
        "numerator = [1]\n",
        "denominator = [4, 1, 2]  # Sistema de segundo orden, por ejemplo\n",
        "\n",
        "# Obtener la respuesta al impulso\n",
        "time, response = impulse((numerator, denominator))\n",
        "\n",
        "# Encontrar los picos en la respuesta al impulso\n",
        "peaks, _ = find_peaks(response)\n",
        "\n",
        "# Encontrar el tiempo correspondiente al primer pico\n",
        "Tp = time[peaks[0]]\n",
        "Tp"
      ],
      "metadata": {
        "id": "tUcwUUpfCOr5"
      },
      "execution_count": null,
      "outputs": []
    },
    {
      "cell_type": "markdown",
      "source": [
        "# Respuesta escalon"
      ],
      "metadata": {
        "id": "d61uqGpKCYkZ"
      }
    },
    {
      "cell_type": "code",
      "source": [
        "step_response_plot(tf1,upper_limit=5/(xi.subs(mck)*wn.subs(mck)))"
      ],
      "metadata": {
        "id": "QURTy37ZCbvm"
      },
      "execution_count": null,
      "outputs": []
    },
    {
      "cell_type": "markdown",
      "source": [
        "# Tiempo pico"
      ],
      "metadata": {
        "id": "LwYiSPIpC7Ol"
      }
    },
    {
      "cell_type": "code",
      "source": [
        "import numpy as np\n",
        "import matplotlib.pyplot as plt\n",
        "from scipy.signal import step, find_peaks\n",
        "\n",
        "# Suponiendo que tf1 es tu función de transferencia\n",
        "# (asegúrate de tener importada la función transfer_function)\n",
        "\n",
        "# Definir la función de transferencia (sustituye tf1 con tu función)\n",
        "numerator = [1]\n",
        "denominator = [4, 1, 2]  # Sistema de segundo orden, por ejemplo\n",
        "\n",
        "# Obtener la respuesta al impulso\n",
        "time, response = step((numerator, denominator))\n",
        "\n",
        "# Encontrar los picos en la respuesta al impulso\n",
        "peaks, _ = find_peaks(response)\n",
        "\n",
        "# Encontrar el tiempo correspondiente al primer pico\n",
        "Tp = time[peaks[0]]\n",
        "Tp"
      ],
      "metadata": {
        "id": "HSSggts4DDTw"
      },
      "execution_count": null,
      "outputs": []
    },
    {
      "cell_type": "markdown",
      "source": [
        "# Respuesta rampa"
      ],
      "metadata": {
        "id": "lUJ3E9MdDIvR"
      }
    },
    {
      "cell_type": "code",
      "source": [
        "ramp_response_plot(tf1,upper_limit=5/(xi.subs(mck)*wn.subs(mck)))"
      ],
      "metadata": {
        "id": "4pBkIk2QDNQT"
      },
      "execution_count": null,
      "outputs": []
    },
    {
      "cell_type": "markdown",
      "source": [
        "Ahora, para sistema de amortiguamiento crítico:\n",
        "\n",
        "$$\\xi=1$$\n",
        "\n",
        "$$\\frac{a_1}{2 a_2 \\sqrt{\\frac {a_0} {a_2}}}=1$$\n",
        "\n",
        "$$\\frac{c}{2 m\\sqrt{\\frac {k+1} {m}}}=1$$\n",
        "\n",
        "Asumimos:\n",
        "\n",
        "$$c=4 = \\frac{L}{R}$$\n",
        "\n",
        "$L = 8$, $R=2$\n",
        "\n",
        "$$k=1$$\n",
        "\n",
        "$$m=2 = CL$$\n",
        "\n",
        "$C=\\frac{1}{4}$\n",
        "\n",
        "$$\\xi = \\frac{4}{4}=1$$"
      ],
      "metadata": {
        "id": "6DlejXuVDQP4"
      }
    },
    {
      "cell_type": "code",
      "source": [
        "#Reemplazando los valores\n",
        "mck = {m: 2.0, c: 4.0, k: 1.0}\n",
        "mck"
      ],
      "metadata": {
        "id": "3V3f00dcDP9j"
      },
      "execution_count": null,
      "outputs": []
    },
    {
      "cell_type": "code",
      "source": [
        "## Polos y ceros\n",
        "print('p1=',p1.subs(mck))\n",
        "print('p2=',p2.subs(mck))\n",
        "print('xi=',xi.subs(mck))\n",
        "print('omega_n=',wn.subs(mck))"
      ],
      "metadata": {
        "id": "FOnIW0fCDZJV"
      },
      "execution_count": null,
      "outputs": []
    },
    {
      "cell_type": "code",
      "source": [
        "t_s2 = 6*m / c\n",
        "print('El tiempo de establecimiento es de: ',t_s.subs(mck))"
      ],
      "metadata": {
        "id": "B7d4-O6QDd6c"
      },
      "execution_count": null,
      "outputs": []
    },
    {
      "cell_type": "code",
      "source": [
        "#gráfica polos y ceros paquete de control de sympy\n",
        "from sympy.physics.control.lti import TransferFunction\n",
        "from sympy.physics.control.control_plots import pole_zero_plot, bode_plot, impulse_response_plot, step_response_plot, ramp_response_plot\n",
        "num,den=sym.fraction(H.subs(mck))\n",
        "\n",
        "tf1 = TransferFunction(num, den, s)#numerados y denomirador función de transferencia con valores evaluados de RLC\n",
        "pole_zero_plot(tf1)"
      ],
      "metadata": {
        "id": "-T2MID6nDf6D"
      },
      "execution_count": null,
      "outputs": []
    },
    {
      "cell_type": "markdown",
      "source": [
        "# Diagrama de bode"
      ],
      "metadata": {
        "id": "3-rBp-ioDiAL"
      }
    },
    {
      "cell_type": "code",
      "source": [
        "bode_plot(tf1)"
      ],
      "metadata": {
        "id": "26R17HCLDmIy"
      },
      "execution_count": null,
      "outputs": []
    },
    {
      "cell_type": "markdown",
      "source": [
        "# Respuesta impulso"
      ],
      "metadata": {
        "id": "49IzmpQRDqLs"
      }
    },
    {
      "cell_type": "code",
      "source": [
        "impulse_response_plot(tf1,upper_limit=5/(xi.subs(mck)*wn.subs(mck)))"
      ],
      "metadata": {
        "id": "1g9l0X1CDtdl"
      },
      "execution_count": null,
      "outputs": []
    },
    {
      "cell_type": "markdown",
      "source": [
        "# Tiempo pico"
      ],
      "metadata": {
        "id": "GUMTKVt7Dw-o"
      }
    },
    {
      "cell_type": "code",
      "source": [
        "import numpy as np\n",
        "import matplotlib.pyplot as plt\n",
        "from scipy.signal import impulse, find_peaks\n",
        "\n",
        "# Suponiendo que tf1 es tu función de transferencia\n",
        "# (asegúrate de tener importada la función transfer_function)\n",
        "\n",
        "# Definir la función de transferencia (sustituye tf1 con tu función)\n",
        "numerator = [1]\n",
        "denominator = [2, 4, 1]  # Sistema de segundo orden, por ejemplo\n",
        "\n",
        "# Obtener la respuesta al impulso\n",
        "time, response = impulse((numerator, denominator))\n",
        "\n",
        "# Encontrar los picos en la respuesta al impulso\n",
        "peaks, _ = find_peaks(response)\n",
        "\n",
        "# Encontrar el tiempo correspondiente al primer pico\n",
        "Tp = time[peaks[0]]\n",
        "Tp"
      ],
      "metadata": {
        "id": "tB-ogcccDzrZ"
      },
      "execution_count": null,
      "outputs": []
    },
    {
      "cell_type": "markdown",
      "source": [
        "# Respuesta al escalon"
      ],
      "metadata": {
        "id": "jTXQrdjLD5ZR"
      }
    },
    {
      "cell_type": "code",
      "source": [
        "step_response_plot(tf1,upper_limit=5/(xi.subs(mck)*wn.subs(mck)))"
      ],
      "metadata": {
        "id": "OD4WIrR9D9fZ"
      },
      "execution_count": null,
      "outputs": []
    },
    {
      "cell_type": "markdown",
      "source": [
        "# Respuesta rampa"
      ],
      "metadata": {
        "id": "jCFQryW0D831"
      }
    },
    {
      "cell_type": "code",
      "source": [
        "ramp_response_plot(tf1,upper_limit=5/(xi.subs(mck)*wn.subs(mck)))"
      ],
      "metadata": {
        "id": "GcOleC5_D-jj"
      },
      "execution_count": null,
      "outputs": []
    },
    {
      "cell_type": "markdown",
      "source": [
        "# SIMULACION PUNTO 2"
      ],
      "metadata": {
        "id": "KQcUHi0GFz7s"
      }
    },
    {
      "cell_type": "markdown",
      "source": [
        "Desacargamos la Canción de interes:"
      ],
      "metadata": {
        "id": "SlppiY0fGMTb"
      }
    },
    {
      "cell_type": "code",
      "source": [
        "!python3 -m pip install --force-reinstall https://github.com/yt-dlp/yt-dlp/archive/master.tar.gz"
      ],
      "metadata": {
        "id": "Yp2_WWB-F5P8"
      },
      "execution_count": null,
      "outputs": []
    },
    {
      "cell_type": "code",
      "source": [
        "#simulación con canción de youtube\n",
        "#instalar api youtube-dl\n",
        "import os\n",
        "import yt_dlp as youtube_dl\n",
        "def download_ytvid_as_mp3(video_url,name):\n",
        "    #video_url = input(\"enter url of youtube video:\")\n",
        "    video_info = youtube_dl.YoutubeDL().extract_info(url = video_url,download=False)\n",
        "    filename = f\"{name}.mp3\"\n",
        "    options={\n",
        "        'format':'bestaudio/best',\n",
        "        'keepvideo':False,\n",
        "        'outtmpl':filename,\n",
        "    }\n",
        "\n",
        "    with youtube_dl.YoutubeDL(options) as ydl:\n",
        "        ydl.download([video_info['webpage_url']])\n",
        "\n",
        "    print(\"Download complete... {}\".format(filename))"
      ],
      "metadata": {
        "id": "iHgOenbmGTAH"
      },
      "execution_count": null,
      "outputs": []
    },
    {
      "cell_type": "code",
      "source": [
        "#descargar canción de mi interés\n",
        "link_= [\"https://www.youtube.com/watch?v=dxNO2jjL5iE\"]\n",
        "name_ = ['Jamby el favo']\n",
        "for name,link in zip(name_,link_):\n",
        "    print(name)\n",
        "    download_ytvid_as_mp3(link,name)"
      ],
      "metadata": {
        "id": "_ka9Zt9sGaoL"
      },
      "execution_count": null,
      "outputs": []
    },
    {
      "cell_type": "code",
      "source": [
        "import subprocess\n",
        "\n",
        "for name in name_:\n",
        "    subprocess.call(['ffmpeg','-y', '-i', name+'.mp3',\n",
        "                   name+'.wav'])"
      ],
      "metadata": {
        "id": "YVYMZR3iHYqw"
      },
      "execution_count": null,
      "outputs": []
    },
    {
      "cell_type": "code",
      "source": [
        "!pip install soundfile #instalar sondfile"
      ],
      "metadata": {
        "id": "XwwwsuxgHbAN"
      },
      "execution_count": null,
      "outputs": []
    },
    {
      "cell_type": "code",
      "source": [
        "import soundfile as sf # para instalar pip install soundfile\n",
        "from IPython.display import Audio #librería para reproducir audio\n",
        "#lee archivos wav\n",
        "for name in name_:\n",
        "    nombre_out = \"output.wav\"\n",
        "    x, fs = sf.read(name+'.wav')\n",
        "\n",
        "    print('Frecuencia de muestreo %.2f[Hz]\\naudio %s' % (fs,name+'.wav'))"
      ],
      "metadata": {
        "id": "u8Cca84eHblG"
      },
      "execution_count": null,
      "outputs": []
    },
    {
      "cell_type": "code",
      "source": [
        "xpro = x.copy() #copiar archivos para procesar\n",
        "#leer 5 segundos de la canción\n",
        "ti = 45 #tiempo incio a procesar seg\n",
        "tf = 50 #tiempo final a procesar seg\n",
        "m = xpro[int(ti*fs):int((tf*fs)),0] #señal mensaje en primer canal"
      ],
      "metadata": {
        "id": "3UsRUAkWHf4K"
      },
      "execution_count": null,
      "outputs": []
    },
    {
      "cell_type": "code",
      "source": [
        "#repoducir fragmento original #señal mensaje\n",
        "Audio(m,rate=fs)"
      ],
      "metadata": {
        "id": "fke40m9lHhze"
      },
      "execution_count": null,
      "outputs": []
    },
    {
      "cell_type": "code",
      "source": [
        "%matplotlib inline\n",
        "import numpy as np\n",
        "import matplotlib.pyplot as plt\n",
        "import sympy as sym"
      ],
      "metadata": {
        "id": "2wPbZi4KHiXc"
      },
      "execution_count": null,
      "outputs": []
    },
    {
      "cell_type": "code",
      "source": [
        "#Señal mensaje en tiempo y frecuencia\n",
        "tt = np.arange(ti,tf,1/fs) # vector de tiempo\n",
        "plt.plot(tt,m) #graficar señal mensaje en el tiempo\n",
        "plt.xlabel('$tiempo [s]$')\n",
        "plt.ylabel('$m(t)$')\n",
        "plt.show()"
      ],
      "metadata": {
        "id": "dUZxxIBbHitp"
      },
      "execution_count": null,
      "outputs": []
    },
    {
      "cell_type": "code",
      "source": [
        "#Fourier señal mensaje\n",
        "Mw = np.fft.rfft(m) # axis=0 permite aplicar fft por cada columna de xpro\n",
        "vf = np.fft.rfftfreq(m.shape[0],1/fs) #se crea el vector de frecuencias\n",
        "plt.plot(vf,abs(Mw))#se grafica la magnitud\n",
        "plt.title(r'Espectro señal mensaje')\n",
        "plt.xlabel(r'$f[Hz]$',fontsize = 14)\n",
        "plt.ylabel(r'$|M[f]|$',fontsize = 14)\n",
        "plt.show()\n",
        "\n",
        "plt.plot(vf, np.angle(Mw))#fase del espectro\n",
        "plt.xlabel(r'$f[Hz]$',fontsize = 14)\n",
        "plt.ylabel(r'$<M[f]$',fontsize = 14)\n",
        "plt.show()"
      ],
      "metadata": {
        "id": "FMcU0jgJHi5R"
      },
      "execution_count": null,
      "outputs": []
    },
    {
      "cell_type": "code",
      "source": [
        "Fo = 12000 #frecuencia portadora\n",
        "c = np.cos(2*np.pi*Fo*tt) #portadora"
      ],
      "metadata": {
        "id": "ULLe-YDNHjEB"
      },
      "execution_count": null,
      "outputs": []
    },
    {
      "cell_type": "code",
      "source": [
        "#repoducir portadora\n",
        "Audio(c,rate=fs)#Señal portadora en tiempo y frecuencia"
      ],
      "metadata": {
        "id": "H8drOOQEHjNy"
      },
      "execution_count": null,
      "outputs": []
    },
    {
      "cell_type": "code",
      "source": [
        "plt.plot(tt,c) #graficar señal mensaje en el tiempo\n",
        "plt.xlabel('$tiempo [s]$')\n",
        "plt.ylabel('$c(t)$')\n",
        "plt.show()"
      ],
      "metadata": {
        "id": "7UNlfSTNHjW6"
      },
      "execution_count": null,
      "outputs": []
    },
    {
      "cell_type": "code",
      "source": [
        "#Fourier señal portadora\n",
        "Cw = np.fft.rfft(c) # axis=0 permite aplicar fft por cada columna de xpro\n",
        "plt.plot(vf,abs(Cw))#se grafica la magnitud\n",
        "plt.title(r'Espectro Portadora')\n",
        "plt.xlabel(r'$f[Hz]$',fontsize = 14)\n",
        "plt.ylabel(r'$|C[f]|$',fontsize = 14)\n",
        "plt.show()\n",
        "\n",
        "\n",
        "plt.plot(vf, np.angle(Cw))#fase del espectro\n",
        "plt.xlabel(r'$f[Hz]$',fontsize = 14)\n",
        "plt.ylabel(r'$<C[f]$',fontsize = 14)\n",
        "plt.show()"
      ],
      "metadata": {
        "id": "_fPU6gUqHjf3"
      },
      "execution_count": null,
      "outputs": []
    },
    {
      "cell_type": "code",
      "source": [
        "#señal modulada\n",
        "A1 = 2\n",
        "y = A1*m*c #señal modulada en AM"
      ],
      "metadata": {
        "id": "oBK4CCI_H5Zc"
      },
      "execution_count": null,
      "outputs": []
    },
    {
      "cell_type": "code",
      "source": [
        "plt.plot(tt,y) #graficar señal modulada en el tiempo\n",
        "plt.xlabel('$tiempo [s]$')\n",
        "plt.ylabel('$y(t)$')\n",
        "plt.show()"
      ],
      "metadata": {
        "id": "RpxergO9H5kB"
      },
      "execution_count": null,
      "outputs": []
    },
    {
      "cell_type": "code",
      "source": [
        "#Fourier señal modulada\n",
        "Yw = np.fft.rfft(y) # axis=0 permite aplicar fft por cada columna de xpro\n",
        "plt.plot(vf,abs(Yw))#se grafica la magnitud\n",
        "plt.title(r'Espectro modulada')\n",
        "plt.xlabel(r'$f[Hz]$',fontsize = 14)\n",
        "plt.ylabel(r'$|Y[f]|$',fontsize = 14)\n",
        "plt.show()\n",
        "\n",
        "\n",
        "plt.plot(vf, np.angle(Yw))#fase del espectro\n",
        "plt.xlabel(r'$f[Hz]$',fontsize = 14)\n",
        "plt.ylabel(r'$<Y[f]$',fontsize = 14)\n",
        "plt.show()"
      ],
      "metadata": {
        "id": "jRrusz7KH5p8"
      },
      "execution_count": null,
      "outputs": []
    },
    {
      "cell_type": "markdown",
      "source": [
        "## Demodulando la señal"
      ],
      "metadata": {
        "id": "TbzSwu61IIL9"
      }
    },
    {
      "cell_type": "markdown",
      "source": [
        "#**Etapa 1: Mixer**"
      ],
      "metadata": {
        "id": "6M5iJ2o0ILSW"
      }
    },
    {
      "cell_type": "code",
      "source": [
        "d = y*c #señal demodulada\n",
        "#repoducir señal demodulada\n",
        "Audio(d,rate=fs)"
      ],
      "metadata": {
        "id": "Nggh-7b3H5te"
      },
      "execution_count": null,
      "outputs": []
    },
    {
      "cell_type": "code",
      "source": [
        "plt.plot(tt,d) #graficar señal demodulada en tiempo\n",
        "plt.xlabel('$tiempo [s]$')\n",
        "plt.ylabel('$d(t)$')\n",
        "plt.show()"
      ],
      "metadata": {
        "id": "t1Jn-B7pH5yR"
      },
      "execution_count": null,
      "outputs": []
    },
    {
      "cell_type": "code",
      "source": [
        "#Fourier señal demodulada\n",
        "Dw = np.fft.rfft(d) # axis=0 permite aplicar fft por cada columna de xpro\n",
        "plt.plot(vf,abs(Dw))#se grafica la magnitud\n",
        "plt.title(r'Espectro modulada')\n",
        "plt.xlabel(r'$f[Hz]$',fontsize = 14)\n",
        "plt.ylabel(r'$|D[f]|$',fontsize = 14)\n",
        "plt.show()\n",
        "\n",
        "\n",
        "plt.plot(vf, np.angle(Dw))#fase del espectro\n",
        "plt.xlabel(r'$f[Hz]$',fontsize = 14)\n",
        "plt.ylabel(r'$<D[f]$',fontsize = 14)\n",
        "plt.show()"
      ],
      "metadata": {
        "id": "nlI7Qbr2H53A"
      },
      "execution_count": null,
      "outputs": []
    },
    {
      "cell_type": "markdown",
      "source": [
        "#**Etapa 2: Filtro pasabajas**"
      ],
      "metadata": {
        "id": "sa-Ln01FIWoZ"
      }
    },
    {
      "cell_type": "code",
      "source": [
        "from scipy.signal import butter, cheby1, cheby2, bessel, lfilter, freqz, freqz_zpk, filtfilt\n",
        "import matplotlib.pyplot as plt\n",
        "import numpy as np"
      ],
      "metadata": {
        "id": "PHX2sBkBIXnp"
      },
      "execution_count": null,
      "outputs": []
    },
    {
      "cell_type": "markdown",
      "source": [
        "#**Diseño filtro Butteworth**\n"
      ],
      "metadata": {
        "id": "2zkx9b1lIh_M"
      }
    },
    {
      "cell_type": "code",
      "source": [
        "N = 10 #orden el filtro\n",
        "Wn = 15000 #banda pasante\n",
        "filt = 'lowpass' #tipo del filtro (pasa-baja, pasa-alta, pasabanda, rechazabanda)\n",
        "out = 'zpk' #la funcion retorna los polos y ceros junto con la ganancia. Para usar numerador y denominador usar 'ba' junto con freqz\n",
        "zeros, poles, gain = butter(N, Wn, btype=filt, output=out, fs=fs)\n",
        "w, h = freqz_zpk(zeros, poles, gain, fs=fs) #Para indicar la longitud usar worN=K"
      ],
      "metadata": {
        "id": "efPUTvAdIcyv"
      },
      "execution_count": null,
      "outputs": []
    },
    {
      "cell_type": "code",
      "source": [
        "from matplotlib.patches import Circle\n",
        "#gráfica polos y ceros\n",
        "def plot_freq_response(filter_name, w, h, N): #Mostrar la respuesta en frecuencia del filtro\n",
        "  fig = plt.figure()\n",
        "  ax1 = fig.add_subplot(1, 1, 1)\n",
        "  ax1.set_title(filter_name +' Digital filter frequency response, order= ' + str(N))\n",
        "  ax1.plot(w, 20 * np.log10(abs(h)), 'b')\n",
        "  ax1.set_ylabel('Amplitude [dB]', color='b')\n",
        "  ax1.set_xlabel('Frequency [Hz]')\n",
        "  ax1.grid()\n",
        "  ax2 = ax1.twinx()\n",
        "  angles = np.unwrap(np.angle(h))\n",
        "  ax2.plot(w, angles, 'g')\n",
        "  ax2.set_ylabel('Angle [radians]', color='g')\n",
        "  plt.axis('tight')\n",
        "  plt.show()\n",
        "\n",
        "def show_zp(z, p, title= 'Z-plane'): # Mostrar la ubicación de los polos y los zeros\n",
        "  ax = plt.gca()\n",
        "\n",
        "  ax.plot(np.real(z), np.imag(z), 'bo', fillstyle='none', ms = 10)\n",
        "  ax.plot(np.real(p), np.imag(p), 'rx', fillstyle='none', ms = 10)\n",
        "  unit_circle = Circle((0,0), radius=1, fill=False,\n",
        "                        color='black', ls='solid', alpha=0.9)\n",
        "  ax.add_patch(unit_circle)\n",
        "  ax.axvline(0, color='0.7')\n",
        "  ax.axhline(0, color='0.7')\n",
        "\n",
        "  plt.title(title)\n",
        "  plt.xlabel(r'Re{$z$}')\n",
        "  plt.ylabel(r'Im{$z$}')\n",
        "  plt.axis('equal')\n",
        "  plt.xlim((-2, 2))\n",
        "  plt.ylim((-2, 2))\n",
        "  plt.grid()"
      ],
      "metadata": {
        "id": "WOI9MmngIdUV"
      },
      "execution_count": null,
      "outputs": []
    },
    {
      "cell_type": "code",
      "source": [
        "show_zp(zeros, poles, title='Polos y Ceros')#gráfica polos y ceros"
      ],
      "metadata": {
        "id": "iet99yPPIqon"
      },
      "execution_count": null,
      "outputs": []
    },
    {
      "cell_type": "code",
      "source": [
        "plot_freq_response('Butterworth', w, h, N) #gráfica de bode del filtro"
      ],
      "metadata": {
        "id": "7XhtVZGEIdXq"
      },
      "execution_count": null,
      "outputs": []
    },
    {
      "cell_type": "markdown",
      "source": [
        "#**Aplicacion filtro butterworth a la canción**"
      ],
      "metadata": {
        "id": "ACLuGomhIxap"
      }
    },
    {
      "cell_type": "code",
      "source": [
        "out='ba'\n",
        "num, den = butter(N, Wn, btype=filt, output=out, fs=fs)\n",
        "xf = lfilter(num, den, d, axis=0)\n",
        "Audio(xf,rate=fs) #Audio con ruido filtrado"
      ],
      "metadata": {
        "id": "yWPIUYnnIdhq"
      },
      "execution_count": null,
      "outputs": []
    },
    {
      "cell_type": "markdown",
      "source": [
        "#**Etapa 3: Escalamiento de amplitud**"
      ],
      "metadata": {
        "id": "Lpa38ELAI53v"
      }
    },
    {
      "cell_type": "code",
      "source": [
        "me = (2/A1)*xf #señal reescalada\n",
        "Audio(me,rate=fs) #Audio con ruido filtrado"
      ],
      "metadata": {
        "id": "0-x4qBFII1BL"
      },
      "execution_count": null,
      "outputs": []
    },
    {
      "cell_type": "code",
      "source": [
        "plt.plot(tt,me) #graficar señal recuperada\n",
        "plt.xlabel('$tiempo [s]$')\n",
        "plt.ylabel('$m_e(t)$')\n",
        "plt.show()"
      ],
      "metadata": {
        "id": "NO7YbWtDJCMb"
      },
      "execution_count": null,
      "outputs": []
    },
    {
      "cell_type": "code",
      "source": [
        "#Fourier señal recuperada\n",
        "Mew = np.fft.rfft(me) # axis=0 permite aplicar fft por cada columna de xpro\n",
        "plt.plot(vf,abs(Mew))#se grafica la magnitud\n",
        "plt.title(r'Espectro recuperada')\n",
        "plt.xlabel(r'$f[Hz]$',fontsize = 14)\n",
        "plt.ylabel(r'$|M_e[f]|$',fontsize = 14)\n",
        "plt.show()\n",
        "\n",
        "\n",
        "plt.plot(vf, np.angle(Mew))#fase del espectro\n",
        "plt.xlabel(r'$f[Hz]$',fontsize = 14)\n",
        "plt.ylabel(r'$<M_e[f]$',fontsize = 14)\n",
        "plt.show()"
      ],
      "metadata": {
        "id": "aQiv5EwSJE5w"
      },
      "execution_count": null,
      "outputs": []
    },
    {
      "cell_type": "markdown",
      "source": [
        "#**Diseño filtro Bessel**"
      ],
      "metadata": {
        "id": "O-GRlI8iJJ70"
      }
    },
    {
      "cell_type": "code",
      "source": [
        "N = 4\n",
        "out = 'ba'\n",
        "filt = 'lowpass' #tipo del filtro (pasa-baja, pasa-alta, pasabanda, rechazabanda)\n",
        "normalization = 'mag' #Ajusta la frecuencia crítica según la respuesta que se desea\n",
        "num, den = bessel(N, Wn=Wn, btype=filt, norm=normalization, output=out, fs=fs) #regresa numerador y denominador. Si se quiere obtener los polos y ceros usar scipy.signal.tf2zpk\n",
        "w, h = freqz(num, den, fs=fs)"
      ],
      "metadata": {
        "id": "lFVWgRmpJLFx"
      },
      "execution_count": null,
      "outputs": []
    },
    {
      "cell_type": "code",
      "source": [
        "plot_freq_response('Bessel', w, h, N)"
      ],
      "metadata": {
        "id": "VhS8x4SPJRYZ"
      },
      "execution_count": null,
      "outputs": []
    },
    {
      "cell_type": "markdown",
      "source": [
        "#**Aplicacion filtro bessel a la canción**"
      ],
      "metadata": {
        "id": "umonFFHELCZa"
      }
    },
    {
      "cell_type": "code",
      "source": [
        "xf = lfilter(num, den, d, axis=0)\n",
        "Audio(xf,rate=fs) #Audio con ruido filtrado"
      ],
      "metadata": {
        "id": "ibsW0QD7JRrp"
      },
      "execution_count": null,
      "outputs": []
    },
    {
      "cell_type": "markdown",
      "source": [
        "#**Etapa 3: Escalamiento de amplitud**"
      ],
      "metadata": {
        "id": "_pWtiG7qLLD3"
      }
    },
    {
      "cell_type": "code",
      "source": [
        "me = (2/A1)*xf #señal reescalada\n",
        "Audio(me,rate=fs) #Audio con ruido filtrado"
      ],
      "metadata": {
        "id": "EfTeVTq3JSKx"
      },
      "execution_count": null,
      "outputs": []
    },
    {
      "cell_type": "markdown",
      "source": [
        "\n",
        "*   Ahora, se grafica la señal rescatada en el dominio del tiempo y de la frecuencia\n"
      ],
      "metadata": {
        "id": "hoxtQZlRLZut"
      }
    },
    {
      "cell_type": "code",
      "source": [
        "plt.plot(tt,me) #graficar señal recuperada\n",
        "plt.xlabel('$tiempo [s]$')\n",
        "plt.ylabel('$m_e(t)$')\n",
        "plt.show()"
      ],
      "metadata": {
        "id": "SBmLICMNJSV2"
      },
      "execution_count": null,
      "outputs": []
    },
    {
      "cell_type": "code",
      "source": [
        "#Fourier señal recuperada\n",
        "Mew = np.fft.rfft(me) # axis=0 permite aplicar fft por cada columna de xpro\n",
        "plt.plot(vf,abs(Mew))#se grafica la magnitud\n",
        "plt.title(r'Espectro recuperada')\n",
        "plt.xlabel(r'$f[Hz]$',fontsize = 14)\n",
        "plt.ylabel(r'$|M_e[f]|$',fontsize = 14)\n",
        "plt.show()\n",
        "\n",
        "\n",
        "plt.plot(vf, np.angle(Mew))#fase del espectro\n",
        "plt.xlabel(r'$f[Hz]$',fontsize = 14)\n",
        "plt.ylabel(r'$<M_e[f]$',fontsize = 14)\n",
        "plt.show()"
      ],
      "metadata": {
        "id": "2eDC0YZsJSgV"
      },
      "execution_count": null,
      "outputs": []
    },
    {
      "cell_type": "markdown",
      "source": [
        "#**Diseño filtro Chebyshev1**"
      ],
      "metadata": {
        "id": "Zv0P4-u8Loe5"
      }
    },
    {
      "cell_type": "code",
      "source": [
        "N = 4\n",
        "ripple = 10\n",
        "out='zpk'\n",
        "zeros, poles, gain = cheby1(N, rp=ripple, Wn=Wn, btype=filt, output=out, fs=fs)\n",
        "w, h = freqz_zpk(zeros, poles, gain, fs=fs)"
      ],
      "metadata": {
        "id": "Xqp6nY0FLpo4"
      },
      "execution_count": null,
      "outputs": []
    },
    {
      "cell_type": "code",
      "source": [
        "plot_freq_response('Chebyshev1', w, h, N)"
      ],
      "metadata": {
        "id": "eHDHYIwlLtzt"
      },
      "execution_count": null,
      "outputs": []
    },
    {
      "cell_type": "markdown",
      "source": [
        "#**Aplicacion filtro chebyshev1 a la canción**"
      ],
      "metadata": {
        "id": "m3F2aC0RL66N"
      }
    },
    {
      "cell_type": "code",
      "source": [
        "out='ba'\n",
        "num, de= cheby1(N, rp=ripple, Wn=Wn, btype=filt, output=out, fs=fs)\n",
        "xf = lfilter(num, den, d, axis=0)\n",
        "Audio(xf,rate=fs) #Audio con ruido filtrado"
      ],
      "metadata": {
        "id": "Gk-y3ncML8aE"
      },
      "execution_count": null,
      "outputs": []
    },
    {
      "cell_type": "markdown",
      "source": [
        "#**Etapa 3: Escalamiento de amplitud**"
      ],
      "metadata": {
        "id": "bXgmADqbMARN"
      }
    },
    {
      "cell_type": "code",
      "source": [
        "me = (2/A1)*xf #señal reescalada\n",
        "Audio(me,rate=fs) #Audio con ruido filtrado"
      ],
      "metadata": {
        "id": "wK6L6-zCMC-Y"
      },
      "execution_count": null,
      "outputs": []
    },
    {
      "cell_type": "markdown",
      "source": [
        "\n",
        "*   Ahora, se grafica la señal recuperada en el dominio del tiempo y de la frecuencia"
      ],
      "metadata": {
        "id": "oWv5LhLOMGQi"
      }
    },
    {
      "cell_type": "code",
      "source": [
        "plt.plot(tt,me) #graficar señal recuperada\n",
        "plt.xlabel('$tiempo [s]$')\n",
        "plt.ylabel('$m_e(t)$')\n",
        "plt.show()"
      ],
      "metadata": {
        "id": "hgC3Me9GMJMV"
      },
      "execution_count": null,
      "outputs": []
    },
    {
      "cell_type": "code",
      "source": [
        "#Fourier señal recuperada\n",
        "Mew = np.fft.rfft(me) # axis=0 permite aplicar fft por cada columna de xpro\n",
        "plt.plot(vf,abs(Mew))#se grafica la magnitud\n",
        "plt.title(r'Espectro recuperada')\n",
        "plt.xlabel(r'$f[Hz]$',fontsize = 14)\n",
        "plt.ylabel(r'$|M_e[f]|$',fontsize = 14)\n",
        "plt.show()\n",
        "\n",
        "\n",
        "plt.plot(vf, np.angle(Mew))#fase del espectro\n",
        "plt.xlabel(r'$f[Hz]$',fontsize = 14)\n",
        "plt.ylabel(r'$<M_e[f]$',fontsize = 14)\n",
        "plt.show()"
      ],
      "metadata": {
        "id": "K_UZBZu_MNPY"
      },
      "execution_count": null,
      "outputs": []
    },
    {
      "cell_type": "markdown",
      "source": [
        "#**Diseño filtro Chebyshev2**"
      ],
      "metadata": {
        "id": "rIAuTRl7MQsp"
      }
    },
    {
      "cell_type": "code",
      "source": [
        "N = 4\n",
        "ripple = 20\n",
        "out = 'ba' #no regresa los polos y ceros, sino la funcion de transferencia\n",
        "num, den = cheby2(N, rs=ripple, Wn=Wn, btype=filt, output=out, fs=fs) #regresa numerador y denominador. Si se quiere obtener los polos y ceros usar scipy.signal.tf2zpk\n",
        "w, h = freqz(num, den, fs=fs)"
      ],
      "metadata": {
        "id": "qe180RDyMTg8"
      },
      "execution_count": null,
      "outputs": []
    },
    {
      "cell_type": "code",
      "source": [
        "plot_freq_response('Chebyshev2', w, h, N)"
      ],
      "metadata": {
        "id": "8BsMK_8TMVc8"
      },
      "execution_count": null,
      "outputs": []
    },
    {
      "cell_type": "markdown",
      "source": [
        "#**Aplicacion filtro chebyshev2 a la canción**\n"
      ],
      "metadata": {
        "id": "Txyk0mcJMa7h"
      }
    },
    {
      "cell_type": "code",
      "source": [
        "xf = lfilter(num, den, d, axis=0)\n",
        "Audio(xf,rate=fs) #Audio con ruido filtrado"
      ],
      "metadata": {
        "id": "4yLpuBDOMcUU"
      },
      "execution_count": null,
      "outputs": []
    },
    {
      "cell_type": "markdown",
      "source": [
        "#**Etapa 3: Escalamiento de amplitud**"
      ],
      "metadata": {
        "id": "c8ftIDi8Mhnk"
      }
    },
    {
      "cell_type": "code",
      "source": [
        "me = (2/A1)*xf #señal reescalada\n",
        "Audio(me,rate=fs) #Audio con ruido filtrado"
      ],
      "metadata": {
        "id": "F2kKNijHMhQ5"
      },
      "execution_count": null,
      "outputs": []
    },
    {
      "cell_type": "markdown",
      "source": [
        "\n",
        "*   Ahora, se grafica la señal recuperada en el dominio del tiempo y la frecuencia\n"
      ],
      "metadata": {
        "id": "3sG7wpxQMmby"
      }
    },
    {
      "cell_type": "code",
      "source": [
        "plt.plot(tt,me) #graficar señal recuperada\n",
        "plt.xlabel('$tiempo [s]$')\n",
        "plt.ylabel('$m_e(t)$')\n",
        "plt.show()"
      ],
      "metadata": {
        "id": "rHomyEYJMnCv"
      },
      "execution_count": null,
      "outputs": []
    },
    {
      "cell_type": "code",
      "source": [
        "#Fourier señal recuperada\n",
        "Mew = np.fft.rfft(me) # axis=0 permite aplicar fft por cada columna de xpro\n",
        "plt.plot(vf,abs(Mew))#se grafica la magnitud\n",
        "plt.title(r'Espectro recuperada')\n",
        "plt.xlabel(r'$f[Hz]$',fontsize = 14)\n",
        "plt.ylabel(r'$|M_e[f]|$',fontsize = 14)\n",
        "plt.show()\n",
        "\n",
        "\n",
        "plt.plot(vf, np.angle(Mew))#fase del espectro\n",
        "plt.xlabel(r'$f[Hz]$',fontsize = 14)\n",
        "plt.ylabel(r'$<M_e[f]$',fontsize = 14)\n",
        "plt.show()"
      ],
      "metadata": {
        "id": "caa3R2L9Mr12"
      },
      "execution_count": null,
      "outputs": []
    }
  ]
}