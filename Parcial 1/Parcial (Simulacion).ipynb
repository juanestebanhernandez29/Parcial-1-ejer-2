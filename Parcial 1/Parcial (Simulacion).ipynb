{
  "nbformat": 4,
  "nbformat_minor": 0,
  "metadata": {
    "colab": {
      "private_outputs": true,
      "provenance": [],
      "authorship_tag": "ABX9TyPiGdbq3ygs/SH8/nq4BLtS",
      "include_colab_link": true
    },
    "kernelspec": {
      "name": "python3",
      "display_name": "Python 3"
    },
    "language_info": {
      "name": "python"
    }
  },
  "cells": [
    {
      "cell_type": "markdown",
      "metadata": {
        "id": "view-in-github",
        "colab_type": "text"
      },
      "source": [
        "<a href=\"https://colab.research.google.com/github/juanestebanhernandez29/Parcial-1-ejer-2/blob/main/Untitled0.ipynb\" target=\"_parent\"><img src=\"https://colab.research.google.com/assets/colab-badge.svg\" alt=\"Open In Colab\"/></a>"
      ]
    },
    {
      "cell_type": "code",
      "source": [
        "#función cero y pendiente\n",
        "def my_ceropend(x,xhmax=-5,xhmin=5):\n",
        "  #cálculo de pendiente y cero\n",
        "  m = (xhmax-xhmin)/(x.max()-x.min())\n",
        "  b = xhmin - m*x.min()\n",
        "  xh = m*x+b\n",
        "  return xh"
      ],
      "metadata": {
        "id": "QfFVHAdZ5pQB"
      },
      "execution_count": null,
      "outputs": []
    },
    {
      "cell_type": "code",
      "source": [
        "import numpy as np\n",
        "import matplotlib.pyplot as plt\n",
        "from scipy.spatial.distance import cdist\n",
        "\n",
        "T1 = 1/2*np.pi #perido señal 1\n",
        "T2 = 2/5*np.pi #perido señal 2\n",
        "T3 = 1/5*np.pi #perido señal 3\n",
        "F1 = 1/T1\n",
        "F1 = 1/T2\n",
        "F1 = 1/T3\n",
        "T = 24*np.pi #perido cuasiperiódica\n",
        "Fs = 10*max(F1,F2) #frecuencia muestreo\n",
        "t = np.arange(0,3*T,1/Fs) #vector de tiempo, se muestran 3 periodos\n",
        "x = 20*(np.cos(t/3)+np.cos(t/4))\n",
        "xhmax = 10\n",
        "xhmin = 0\n",
        "xh = my_ceropend(x,xhmax, xhmin).reshape(-1,1)#aplicar cero y pendiente de 0 a 10\n",
        "#asegurar vector columna\n",
        "\n",
        "#cuantizar\n",
        "nbits = 3 #número bits\n",
        "Ne = 2**nbits #cantidad de estados\n",
        "res = (xhmax-xhmin)/Ne #resolución cuantización\n",
        "ve = np.arange(xhmin,xhmax,res).reshape(-1,1)#vector de estados\n",
        "#asegurar vector columna\n",
        "\n",
        "xq = np.zeros(len(xh)) #señal cuantizada\n",
        "for i in range(len(xh)): #recorrer señal cero y pendiente\n",
        "    xq[i] = ve[np.argmin(cdist(xh[i].reshape(-1,1),ve))] #se cálcula la distancia desde cada punto al vector de estados\n",
        "\n",
        "#gráficas de señales\n",
        "plt.plot(t,x,'r',label='x(t)')\n",
        "plt.xlabel('t [s]')\n",
        "plt.ylabel('Amplitud')\n",
        "plt.show()\n",
        "plt.plot(t,xh,'b',label='x(t)')\n",
        "plt.stem(t,xq,'y',label='xq[n]')\n",
        "plt.xlabel('n [muestra]')\n",
        "plt.ylabel('Amplitud')\n",
        "plt.legend()\n",
        "plt.show()"
      ],
      "metadata": {
        "id": "GIhzSsr95qRg"
      },
      "execution_count": null,
      "outputs": []
    }
  ]
}